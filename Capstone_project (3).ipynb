{
 "cells": [
  {
   "cell_type": "code",
   "execution_count": 163,
   "id": "0ccc688d-d24c-4f12-9bee-4561ee4a823a",
   "metadata": {},
   "outputs": [],
   "source": [
    "#Importing the pandas library for data manipulation and analysis\n",
    "import pandas as pd"
   ]
  },
  {
   "cell_type": "code",
   "execution_count": 166,
   "id": "67185d22-896d-465b-9a0f-7fc3d7938439",
   "metadata": {},
   "outputs": [
    {
     "name": "stdout",
     "output_type": "stream",
     "text": [
      "Project DataFrame created\n"
     ]
    },
    {
     "data": {
      "text/html": [
       "<div>\n",
       "<style scoped>\n",
       "    .dataframe tbody tr th:only-of-type {\n",
       "        vertical-align: middle;\n",
       "    }\n",
       "\n",
       "    .dataframe tbody tr th {\n",
       "        vertical-align: top;\n",
       "    }\n",
       "\n",
       "    .dataframe thead th {\n",
       "        text-align: right;\n",
       "    }\n",
       "</style>\n",
       "<table border=\"1\" class=\"dataframe\">\n",
       "  <thead>\n",
       "    <tr style=\"text-align: right;\">\n",
       "      <th></th>\n",
       "      <th>ID</th>\n",
       "      <th>Project</th>\n",
       "      <th>Cost</th>\n",
       "      <th>Status</th>\n",
       "    </tr>\n",
       "  </thead>\n",
       "  <tbody>\n",
       "    <tr>\n",
       "      <th>0</th>\n",
       "      <td>A001</td>\n",
       "      <td>Project 1</td>\n",
       "      <td>1002000.0</td>\n",
       "      <td>Finished</td>\n",
       "    </tr>\n",
       "    <tr>\n",
       "      <th>1</th>\n",
       "      <td>A002</td>\n",
       "      <td>Project 2</td>\n",
       "      <td>2000000.0</td>\n",
       "      <td>Ongoing</td>\n",
       "    </tr>\n",
       "    <tr>\n",
       "      <th>2</th>\n",
       "      <td>A003</td>\n",
       "      <td>Project 3</td>\n",
       "      <td>4500000.0</td>\n",
       "      <td>Finished</td>\n",
       "    </tr>\n",
       "    <tr>\n",
       "      <th>3</th>\n",
       "      <td>A004</td>\n",
       "      <td>Project 4</td>\n",
       "      <td>5500000.0</td>\n",
       "      <td>Ongoing</td>\n",
       "    </tr>\n",
       "    <tr>\n",
       "      <th>4</th>\n",
       "      <td>A005</td>\n",
       "      <td>Project 5</td>\n",
       "      <td>NaN</td>\n",
       "      <td>Finished</td>\n",
       "    </tr>\n",
       "    <tr>\n",
       "      <th>5</th>\n",
       "      <td>A002</td>\n",
       "      <td>Project 6</td>\n",
       "      <td>680000.0</td>\n",
       "      <td>Failed</td>\n",
       "    </tr>\n",
       "    <tr>\n",
       "      <th>6</th>\n",
       "      <td>A005</td>\n",
       "      <td>Project 7</td>\n",
       "      <td>400000.0</td>\n",
       "      <td>Finished</td>\n",
       "    </tr>\n",
       "    <tr>\n",
       "      <th>7</th>\n",
       "      <td>A003</td>\n",
       "      <td>Project 8</td>\n",
       "      <td>350000.0</td>\n",
       "      <td>Failed</td>\n",
       "    </tr>\n",
       "    <tr>\n",
       "      <th>8</th>\n",
       "      <td>A001</td>\n",
       "      <td>Project 9</td>\n",
       "      <td>NaN</td>\n",
       "      <td>Ongoing</td>\n",
       "    </tr>\n",
       "    <tr>\n",
       "      <th>9</th>\n",
       "      <td>A003</td>\n",
       "      <td>Project 10</td>\n",
       "      <td>300000.0</td>\n",
       "      <td>Finished</td>\n",
       "    </tr>\n",
       "    <tr>\n",
       "      <th>10</th>\n",
       "      <td>A001</td>\n",
       "      <td>Project 11</td>\n",
       "      <td>2000000.0</td>\n",
       "      <td>Failed</td>\n",
       "    </tr>\n",
       "    <tr>\n",
       "      <th>11</th>\n",
       "      <td>A004</td>\n",
       "      <td>Project 12</td>\n",
       "      <td>1000000.0</td>\n",
       "      <td>Ongoing</td>\n",
       "    </tr>\n",
       "    <tr>\n",
       "      <th>12</th>\n",
       "      <td>A004</td>\n",
       "      <td>Project 13</td>\n",
       "      <td>3000000.0</td>\n",
       "      <td>Finished</td>\n",
       "    </tr>\n",
       "    <tr>\n",
       "      <th>13</th>\n",
       "      <td>A005</td>\n",
       "      <td>Project 14</td>\n",
       "      <td>200000.0</td>\n",
       "      <td>Finished</td>\n",
       "    </tr>\n",
       "  </tbody>\n",
       "</table>\n",
       "</div>"
      ],
      "text/plain": [
       "      ID     Project      Cost    Status\n",
       "0   A001   Project 1 1002000.0  Finished\n",
       "1   A002   Project 2 2000000.0   Ongoing\n",
       "2   A003   Project 3 4500000.0  Finished\n",
       "3   A004   Project 4 5500000.0   Ongoing\n",
       "4   A005   Project 5       NaN  Finished\n",
       "5   A002   Project 6  680000.0    Failed\n",
       "6   A005   Project 7  400000.0  Finished\n",
       "7   A003   Project 8  350000.0    Failed\n",
       "8   A001   Project 9       NaN   Ongoing\n",
       "9   A003  Project 10  300000.0  Finished\n",
       "10  A001  Project 11 2000000.0    Failed\n",
       "11  A004  Project 12 1000000.0   Ongoing\n",
       "12  A004  Project 13 3000000.0  Finished\n",
       "13  A005  Project 14  200000.0  Finished"
      ]
     },
     "execution_count": 166,
     "metadata": {},
     "output_type": "execute_result"
    }
   ],
   "source": [
    "# Creating project DataFrame\n",
    "project_data = {\n",
    "    'ID': ['A001', 'A002', 'A003', 'A004', 'A005', 'A002', 'A005', 'A003', 'A001', 'A003', 'A001', 'A004', 'A004', 'A005'],\n",
    "    'Project': ['Project 1', 'Project 2', 'Project 3', 'Project 4', 'Project 5', 'Project 6', 'Project 7', 'Project 8', 'Project 9', 'Project 10', 'Project 11', 'Project 12', 'Project 13', 'Project 14'],\n",
    "    'Cost': [1002000, 2000000, 4500000, 5500000, None, 680000, 400000, 350000, None, 300000, 2000000, 1000000, 3000000, 200000],\n",
    "    'Status': ['Finished', 'Ongoing', 'Finished', 'Ongoing', 'Finished', 'Failed', 'Finished', 'Failed', 'Ongoing', 'Finished', 'Failed', 'Ongoing', 'Finished', 'Finished']\n",
    "}\n",
    "# Convert the raw project_data dictionary into a Pandas DataFrame\n",
    "project_df = pd.DataFrame(project_data)\n",
    "# Printing a confirmation message so that DataFrame was created\n",
    "print(\"Project DataFrame created\")\n",
    "# Display the DataFrame in the output\n",
    "project_df"
   ]
  },
  {
   "cell_type": "code",
   "execution_count": 167,
   "id": "36fd0907-d53c-42fd-a652-2a49036c83af",
   "metadata": {},
   "outputs": [
    {
     "name": "stdout",
     "output_type": "stream",
     "text": [
      "Project DataFrame saved to project_dataframe.csv\n"
     ]
    }
   ],
   "source": [
    "# Save Project DataFrame to CSV\n",
    "project_df.to_csv('project_dataframe.csv', index=False)\n",
    "print(\"Project DataFrame saved to project_dataframe.csv\")"
   ]
  },
  {
   "cell_type": "code",
   "execution_count": 168,
   "id": "7e6b19bb-d43a-4da4-bab0-1184c4d6b41d",
   "metadata": {},
   "outputs": [
    {
     "name": "stdout",
     "output_type": "stream",
     "text": [
      "Employee DataFrame created\n"
     ]
    },
    {
     "data": {
      "text/html": [
       "<div>\n",
       "<style scoped>\n",
       "    .dataframe tbody tr th:only-of-type {\n",
       "        vertical-align: middle;\n",
       "    }\n",
       "\n",
       "    .dataframe tbody tr th {\n",
       "        vertical-align: top;\n",
       "    }\n",
       "\n",
       "    .dataframe thead th {\n",
       "        text-align: right;\n",
       "    }\n",
       "</style>\n",
       "<table border=\"1\" class=\"dataframe\">\n",
       "  <thead>\n",
       "    <tr style=\"text-align: right;\">\n",
       "      <th></th>\n",
       "      <th>ID</th>\n",
       "      <th>Name</th>\n",
       "      <th>Gender</th>\n",
       "      <th>City</th>\n",
       "      <th>Age</th>\n",
       "    </tr>\n",
       "  </thead>\n",
       "  <tbody>\n",
       "    <tr>\n",
       "      <th>0</th>\n",
       "      <td>A001</td>\n",
       "      <td>John Alter</td>\n",
       "      <td>M</td>\n",
       "      <td>Paris</td>\n",
       "      <td>25</td>\n",
       "    </tr>\n",
       "    <tr>\n",
       "      <th>1</th>\n",
       "      <td>A002</td>\n",
       "      <td>Alice Luxumberg</td>\n",
       "      <td>F</td>\n",
       "      <td>London</td>\n",
       "      <td>27</td>\n",
       "    </tr>\n",
       "    <tr>\n",
       "      <th>2</th>\n",
       "      <td>A003</td>\n",
       "      <td>Tom Sabestine</td>\n",
       "      <td>M</td>\n",
       "      <td>Berlin</td>\n",
       "      <td>29</td>\n",
       "    </tr>\n",
       "    <tr>\n",
       "      <th>3</th>\n",
       "      <td>A004</td>\n",
       "      <td>Nina Adgra</td>\n",
       "      <td>F</td>\n",
       "      <td>Newyork</td>\n",
       "      <td>31</td>\n",
       "    </tr>\n",
       "    <tr>\n",
       "      <th>4</th>\n",
       "      <td>A005</td>\n",
       "      <td>Amy Johny</td>\n",
       "      <td>F</td>\n",
       "      <td>Madrid</td>\n",
       "      <td>30</td>\n",
       "    </tr>\n",
       "  </tbody>\n",
       "</table>\n",
       "</div>"
      ],
      "text/plain": [
       "     ID             Name Gender     City  Age\n",
       "0  A001       John Alter      M    Paris   25\n",
       "1  A002  Alice Luxumberg      F   London   27\n",
       "2  A003    Tom Sabestine      M   Berlin   29\n",
       "3  A004       Nina Adgra      F  Newyork   31\n",
       "4  A005        Amy Johny      F   Madrid   30"
      ]
     },
     "execution_count": 168,
     "metadata": {},
     "output_type": "execute_result"
    }
   ],
   "source": [
    "# Create Employee DataFrame\n",
    "employee_data = {\n",
    "    'ID': ['A001', 'A002', 'A003', 'A004', 'A005'],\n",
    "    'Name': ['John Alter', 'Alice Luxumberg', 'Tom Sabestine', 'Nina Adgra', 'Amy Johny'],\n",
    "    'Gender': ['M', 'F', 'M', 'F', 'F'],\n",
    "    'City': ['Paris', 'London', 'Berlin', 'Newyork', 'Madrid'],\n",
    "    'Age': [25, 27, 29, 31, 30]\n",
    "}\n",
    "# Convert the raw employee_data dictionary into a Pandas DataFrame\n",
    "employee_df = pd.DataFrame(employee_data)\n",
    "# Printing a confirmation message so that DataFrame was created\n",
    "print(\"Employee DataFrame created\")\n",
    "# Display the DataFrame in the output\n",
    "employee_df"
   ]
  },
  {
   "cell_type": "code",
   "execution_count": 165,
   "id": "d0aface9-c5a5-48a1-9ad6-e923d63bd13a",
   "metadata": {},
   "outputs": [
    {
     "name": "stdout",
     "output_type": "stream",
     "text": [
      "Employee DataFrame saved to employee_dataframe.csv\n"
     ]
    }
   ],
   "source": [
    "# Save Employee DataFrame to CSV\n",
    "employee_df.to_csv('employee_dataframe.csv', index=False)\n",
    "print(\"Employee DataFrame saved to employee_dataframe.csv\")"
   ]
  },
  {
   "cell_type": "code",
   "execution_count": 172,
   "id": "e04bed4f-053b-4ad9-a160-d815c4b44d54",
   "metadata": {},
   "outputs": [
    {
     "name": "stdout",
     "output_type": "stream",
     "text": [
      "seniority DataFrame created\n"
     ]
    },
    {
     "data": {
      "text/html": [
       "<div>\n",
       "<style scoped>\n",
       "    .dataframe tbody tr th:only-of-type {\n",
       "        vertical-align: middle;\n",
       "    }\n",
       "\n",
       "    .dataframe tbody tr th {\n",
       "        vertical-align: top;\n",
       "    }\n",
       "\n",
       "    .dataframe thead th {\n",
       "        text-align: right;\n",
       "    }\n",
       "</style>\n",
       "<table border=\"1\" class=\"dataframe\">\n",
       "  <thead>\n",
       "    <tr style=\"text-align: right;\">\n",
       "      <th></th>\n",
       "      <th>ID</th>\n",
       "      <th>Designation Level</th>\n",
       "    </tr>\n",
       "  </thead>\n",
       "  <tbody>\n",
       "    <tr>\n",
       "      <th>0</th>\n",
       "      <td>A001</td>\n",
       "      <td>2</td>\n",
       "    </tr>\n",
       "    <tr>\n",
       "      <th>1</th>\n",
       "      <td>A002</td>\n",
       "      <td>2</td>\n",
       "    </tr>\n",
       "    <tr>\n",
       "      <th>2</th>\n",
       "      <td>A003</td>\n",
       "      <td>3</td>\n",
       "    </tr>\n",
       "    <tr>\n",
       "      <th>3</th>\n",
       "      <td>A004</td>\n",
       "      <td>2</td>\n",
       "    </tr>\n",
       "    <tr>\n",
       "      <th>4</th>\n",
       "      <td>A005</td>\n",
       "      <td>3</td>\n",
       "    </tr>\n",
       "  </tbody>\n",
       "</table>\n",
       "</div>"
      ],
      "text/plain": [
       "     ID  Designation Level\n",
       "0  A001                  2\n",
       "1  A002                  2\n",
       "2  A003                  3\n",
       "3  A004                  2\n",
       "4  A005                  3"
      ]
     },
     "execution_count": 172,
     "metadata": {},
     "output_type": "execute_result"
    }
   ],
   "source": [
    "seniority_data = {\n",
    "    'ID': ['A001','A002','A003','A004','A005'],\n",
    "    'Designation Level': [2, 2, 3, 2, 3]\n",
    "}\n",
    "# Convert the raw seniority_data dictionary into a Pandas DataFrame\n",
    "seniority_df = pd.DataFrame(seniority_data)\n",
    "# Printing a confirmation message so that DataFrame was created\n",
    "print(\"seniority DataFrame created\")\n",
    "# Display the DataFrame in the output\n",
    "seniority_df"
   ]
  },
  {
   "cell_type": "code",
   "execution_count": 173,
   "id": "d0114656-7434-468b-bf06-d2b00f5633c7",
   "metadata": {},
   "outputs": [
    {
     "name": "stdout",
     "output_type": "stream",
     "text": [
      "seniority DataFrame saved to seniority_data.csv\n"
     ]
    }
   ],
   "source": [
    "# Save seniority DataFrame to CSV\n",
    "seniority_df.to_csv('seniority.csv', index=False)\n",
    "print(\"seniority DataFrame saved to seniority_data.csv\")"
   ]
  },
  {
   "cell_type": "code",
   "execution_count": 174,
   "id": "e2b02283-2b43-4cb6-a7cb-284cd4c32a87",
   "metadata": {},
   "outputs": [],
   "source": [
    "# Import the pandas library for data manipulation and analysis\n",
    "import pandas as pd\n",
    "# Import the NumPy library for numerical operations and array handling\n",
    "import numpy as np"
   ]
  },
  {
   "cell_type": "code",
   "execution_count": 175,
   "id": "8d0eb196-a2cf-4844-badc-c2df4c922641",
   "metadata": {},
   "outputs": [
    {
     "name": "stdout",
     "output_type": "stream",
     "text": [
      "Task 2\n",
      "      ID     Project      Cost    Status\n",
      "0   A001   Project 1 1002000.0  Finished\n",
      "1   A002   Project 2 2000000.0   Ongoing\n",
      "2   A003   Project 3 4500000.0  Finished\n",
      "3   A004   Project 4 5500000.0   Ongoing\n",
      "4   A005   Project 5       NaN  Finished\n",
      "5   A002   Project 6  680000.0    Failed\n",
      "6   A005   Project 7  400000.0  Finished\n",
      "7   A003   Project 8  350000.0    Failed\n",
      "8   A001   Project 9       NaN   Ongoing\n",
      "9   A003  Project 10  300000.0  Finished\n",
      "10  A001  Project 11 2000000.0    Failed\n",
      "11  A004  Project 12 1000000.0   Ongoing\n",
      "12  A004  Project 13 3000000.0  Finished\n",
      "13  A005  Project 14  200000.0  Finished\n",
      "Missing values in Cost column\n",
      "2\n"
     ]
    }
   ],
   "source": [
    "# Print the task label to indicate which task is being executed\n",
    "print(\"Task 2\")\n",
    "# Display the entire project_df DataFrame \n",
    "print(project_df)\n",
    "# Label to indicate missing values in Cost\n",
    "print(\"Missing values in Cost column\")\n",
    "# Count how many missing NaN values are in the 'Cost' column and print the result\n",
    "print(project_df['Cost'].isnull().sum())"
   ]
  },
  {
   "cell_type": "code",
   "execution_count": 176,
   "id": "0cc33d0c-a27e-4772-966d-508df1104428",
   "metadata": {},
   "outputs": [],
   "source": [
    "# Create a copy of project_df to avoid modifying the original DataFrame\n",
    "project_df_updated = project_df.copy()"
   ]
  },
  {
   "cell_type": "code",
   "execution_count": 177,
   "id": "4db4d241-910d-48e3-8d26-5d27a168df87",
   "metadata": {},
   "outputs": [
    {
     "name": "stdout",
     "output_type": "stream",
     "text": [
      "Working on the missing value using for loop\n"
     ]
    }
   ],
   "source": [
    "# Display a message indicating  we are handling missing values using a for loop\n",
    "print(\"Working on the missing value using for loop\")"
   ]
  },
  {
   "cell_type": "code",
   "execution_count": 178,
   "id": "f7285ac7-6caa-43bd-9032-877ce5fa99e2",
   "metadata": {},
   "outputs": [],
   "source": [
    "# Convert the Cost column to float type to work on numeric operations \n",
    "project_df_updated['Cost'] = project_df_updated['Cost'].astype(float)"
   ]
  },
  {
   "cell_type": "code",
   "execution_count": 179,
   "id": "039f2ffc-4a1c-4193-b414-8be73b6020b5",
   "metadata": {},
   "outputs": [],
   "source": [
    "# Initialize variables for sum and count of valid cost values\n",
    "running_sum = 0  \n",
    "count = 0"
   ]
  },
  {
   "cell_type": "code",
   "execution_count": 180,
   "id": "bc847485-079b-4c45-aeed-a69aed74d110",
   "metadata": {},
   "outputs": [
    {
     "name": "stdout",
     "output_type": "stream",
     "text": [
      "      ID     Project      Cost    Status\n",
      "0   A001   Project 1 1002000.0  Finished\n",
      "1   A002   Project 2 2000000.0   Ongoing\n",
      "2   A003   Project 3 4500000.0  Finished\n",
      "3   A004   Project 4 5500000.0   Ongoing\n",
      "4   A005   Project 5 3250500.0  Finished\n",
      "5   A002   Project 6  680000.0    Failed\n",
      "6   A005   Project 7  400000.0  Finished\n",
      "7   A003   Project 8  350000.0    Failed\n",
      "8   A001   Project 9 2061714.3   Ongoing\n",
      "9   A003  Project 10  300000.0  Finished\n",
      "10  A001  Project 11 2000000.0    Failed\n",
      "11  A004  Project 12 1000000.0   Ongoing\n",
      "12  A004  Project 13 3000000.0  Finished\n",
      "13  A005  Project 14  200000.0  Finished\n"
     ]
    }
   ],
   "source": [
    "#Loop through the rows using a 'for' loop\n",
    "for i in range(len(project_df_updated)):\n",
    "    # Check if the cost is missing (NaN) where i is row and 'Cost' is column\n",
    "    if pd.isna(project_df_updated.loc[i,'Cost']):\n",
    "        # Only calculate average if we have at least one valid cost\n",
    "         if count > 0:\n",
    "             average = running_sum / count\n",
    "             # Replace the missing value with the running average\n",
    "             project_df_updated.loc[i,'Cost'] = average\n",
    "    else:\n",
    "         # If the cost is valid, add it to the running sum and increase count\n",
    "        running_sum += project_df_updated.loc[i,'Cost']\n",
    "          # Increment the count of valid cost entries\n",
    "        count += 1\n",
    "# Save the updated DataFrame to CSV, formatting floats to 1 decimal place\n",
    "project_df_updated.to_csv(\"project_filled.csv\", index=False, float_format='%.1f')\n",
    "# Set Pandas display option to show floats with 1 decimal place in output\n",
    "pd.set_option('display.float_format', '{:.1f}'.format)\n",
    "# Print the updated DataFrame to verify the changes\n",
    "print(project_df_updated)\n",
    "        \n",
    "               "
   ]
  },
  {
   "cell_type": "code",
   "execution_count": 181,
   "id": "6e2a3c6b-7b6d-46f7-8984-430e167efeec",
   "metadata": {},
   "outputs": [
    {
     "name": "stdout",
     "output_type": "stream",
     "text": [
      "Task3\n",
      "     ID             Name Gender     City  Age\n",
      "0  A001       John Alter      M    Paris   25\n",
      "1  A002  Alice Luxumberg      F   London   27\n",
      "2  A003    Tom Sabestine      M   Berlin   29\n",
      "3  A004       Nina Adgra      F  Newyork   31\n",
      "4  A005        Amy Johny      F   Madrid   30\n"
     ]
    }
   ],
   "source": [
    "# Prints output below belongs to Task 3\n",
    "print(\"Task3\")\n",
    "# Creates a DataFrame employee_df from the dictionary named employee_data\n",
    "employee_df = pd.DataFrame(employee_data)\n",
    "# Displays the employee_df DataFrame in the console so you can see its contents\n",
    "print(employee_df)"
   ]
  },
  {
   "cell_type": "code",
   "execution_count": 91,
   "id": "607e7497-133e-4474-9727-79a9726288eb",
   "metadata": {},
   "outputs": [
    {
     "name": "stdout",
     "output_type": "stream",
     "text": [
      "     ID Gender     City  Age FirstName   LastName\n",
      "0  A001      M    Paris   25      John      Alter\n",
      "1  A002      F   London   27     Alice  Luxumberg\n",
      "2  A003      M   Berlin   29       Tom  Sabestine\n",
      "3  A004      F  Newyork   31      Nina      Adgra\n",
      "4  A005      F   Madrid   30       Amy      Johny\n"
     ]
    }
   ],
   "source": [
    "# Split the Name column\n",
    "employee_df[['FirstName','LastName']] = employee_df['Name'].str.split(' ',n=1,expand = True)\n",
    "# Drop the old Name column\n",
    "employee_df = employee_df.drop('Name',axis=1)\n",
    "# Display the result\n",
    "print(employee_df)"
   ]
  },
  {
   "cell_type": "code",
   "execution_count": 182,
   "id": "f1df4e7f-a7c9-4065-861a-cf64ad218079",
   "metadata": {},
   "outputs": [
    {
     "name": "stdout",
     "output_type": "stream",
     "text": [
      "task 4\n"
     ]
    }
   ],
   "source": [
    "# Prints output below belongs to Task 4\n",
    "print(\"task 4\")"
   ]
  },
  {
   "cell_type": "code",
   "execution_count": 183,
   "id": "1695dc9f-34f6-48ba-9ba9-cbb6ce9cfa49",
   "metadata": {},
   "outputs": [],
   "source": [
    "# Convert the raw project_data dictionary into a DataFrame\n",
    "project_df = pd.DataFrame(project_data)\n",
    "# Convert the raw employee_data dictionary into a DataFrame\n",
    "employee_df = pd.DataFrame(employee_data)\n",
    "# Convert the raw seniority_data dictionary into a DataFrame\n",
    "seniority_df = pd.DataFrame(seniority_data)"
   ]
  },
  {
   "cell_type": "code",
   "execution_count": 184,
   "id": "bf523d1b-364b-4f92-9a37-aaa70f4b5e19",
   "metadata": {},
   "outputs": [],
   "source": [
    "# Split the 'Name' column into 'FirstName' and 'LastName', n=1 ensures we only split on the first space.\n",
    "#expand=True returns the result as separate DataFrame columns\n",
    "employee_df[['FirstName','LastName']] = employee_df['Name'].str.split(' ', n=1, expand=True)\n",
    "employee_df.drop(columns=['Name'], inplace=True)\n",
    "# Merge Employee and Seniority first (on 'ID')\n",
    "senior_employee_df = pd.merge(employee_df,seniority_df, on = 'ID', how = 'left')"
   ]
  },
  {
   "cell_type": "code",
   "execution_count": 185,
   "id": "7fa7d0cb-2efd-469a-9daa-b5789600b921",
   "metadata": {},
   "outputs": [],
   "source": [
    "# Merge the above result with Project data\n",
    "final_df = pd.merge(senior_employee_df,project_df, on = 'ID', how = 'left')"
   ]
  },
  {
   "cell_type": "code",
   "execution_count": 186,
   "id": "1358691e-9c82-44ad-8f30-dc57ab055dfc",
   "metadata": {},
   "outputs": [
    {
     "name": "stdout",
     "output_type": "stream",
     "text": [
      "      ID Gender     City  Age FirstName   LastName  Designation Level  \\\n",
      "0   A001      M    Paris   25      John      Alter                  2   \n",
      "1   A001      M    Paris   25      John      Alter                  2   \n",
      "2   A001      M    Paris   25      John      Alter                  2   \n",
      "3   A002      F   London   27     Alice  Luxumberg                  2   \n",
      "4   A002      F   London   27     Alice  Luxumberg                  2   \n",
      "5   A003      M   Berlin   29       Tom  Sabestine                  3   \n",
      "6   A003      M   Berlin   29       Tom  Sabestine                  3   \n",
      "7   A003      M   Berlin   29       Tom  Sabestine                  3   \n",
      "8   A004      F  Newyork   31      Nina      Adgra                  2   \n",
      "9   A004      F  Newyork   31      Nina      Adgra                  2   \n",
      "10  A004      F  Newyork   31      Nina      Adgra                  2   \n",
      "11  A005      F   Madrid   30       Amy      Johny                  3   \n",
      "12  A005      F   Madrid   30       Amy      Johny                  3   \n",
      "13  A005      F   Madrid   30       Amy      Johny                  3   \n",
      "\n",
      "       Project      Cost    Status  \n",
      "0    Project 1 1002000.0  Finished  \n",
      "1    Project 9       NaN   Ongoing  \n",
      "2   Project 11 2000000.0    Failed  \n",
      "3    Project 2 2000000.0   Ongoing  \n",
      "4    Project 6  680000.0    Failed  \n",
      "5    Project 3 4500000.0  Finished  \n",
      "6    Project 8  350000.0    Failed  \n",
      "7   Project 10  300000.0  Finished  \n",
      "8    Project 4 5500000.0   Ongoing  \n",
      "9   Project 12 1000000.0   Ongoing  \n",
      "10  Project 13 3000000.0  Finished  \n",
      "11   Project 5       NaN  Finished  \n",
      "12   Project 7  400000.0  Finished  \n",
      "13  Project 14  200000.0  Finished  \n"
     ]
    }
   ],
   "source": [
    "print(final_df)"
   ]
  },
  {
   "cell_type": "code",
   "execution_count": 203,
   "id": "2c66ba62-0ee3-4b87-a73b-feb250299a41",
   "metadata": {},
   "outputs": [
    {
     "name": "stdout",
     "output_type": "stream",
     "text": [
      "task 5\n"
     ]
    }
   ],
   "source": [
    "# Prints output below belongs to Task 5\n",
    "print(\"task 5\")"
   ]
  },
  {
   "cell_type": "code",
   "execution_count": 142,
   "id": "38aafab9-6990-495b-8e45-8b5731f38f57",
   "metadata": {},
   "outputs": [
    {
     "name": "stdout",
     "output_type": "stream",
     "text": [
      "      ID Gender     City  Age FirstName   LastName  Designation Level  \\\n",
      "0   A001      M    Paris   25      John      Alter                  2   \n",
      "1   A001      M    Paris   25      John      Alter                  2   \n",
      "2   A001      M    Paris   25      John      Alter                  2   \n",
      "3   A002      F   London   27     Alice  Luxumberg                  2   \n",
      "4   A002      F   London   27     Alice  Luxumberg                  2   \n",
      "5   A003      M   Berlin   29       Tom  Sabestine                  3   \n",
      "6   A003      M   Berlin   29       Tom  Sabestine                  3   \n",
      "7   A003      M   Berlin   29       Tom  Sabestine                  3   \n",
      "8   A004      F  Newyork   31      Nina      Adgra                  2   \n",
      "9   A004      F  Newyork   31      Nina      Adgra                  2   \n",
      "10  A004      F  Newyork   31      Nina      Adgra                  2   \n",
      "11  A005      F   Madrid   30       Amy      Johny                  3   \n",
      "12  A005      F   Madrid   30       Amy      Johny                  3   \n",
      "13  A005      F   Madrid   30       Amy      Johny                  3   \n",
      "\n",
      "       Project      Cost    Status    Bonus  \n",
      "0    Project 1 1002000.0  Finished  50100.0  \n",
      "1    Project 9       NaN   Ongoing      0.0  \n",
      "2   Project 11 2000000.0    Failed      0.0  \n",
      "3    Project 2 2000000.0   Ongoing      0.0  \n",
      "4    Project 6  680000.0    Failed      0.0  \n",
      "5    Project 3 4500000.0  Finished 225000.0  \n",
      "6    Project 8  350000.0    Failed      0.0  \n",
      "7   Project 10  300000.0  Finished  15000.0  \n",
      "8    Project 4 5500000.0   Ongoing      0.0  \n",
      "9   Project 12 1000000.0   Ongoing      0.0  \n",
      "10  Project 13 3000000.0  Finished 150000.0  \n",
      "11   Project 5       NaN  Finished      NaN  \n",
      "12   Project 7  400000.0  Finished  20000.0  \n",
      "13  Project 14  200000.0  Finished  10000.0  \n"
     ]
    }
   ],
   "source": [
    "#using np.where condition to solve the bonous\n",
    "final_df[\"Bonus\"] = np.where(final_df['Status'] == 'Finished', final_df['Cost'] * 0.05, 0)\n",
    "print(final_df)"
   ]
  },
  {
   "cell_type": "code",
   "execution_count": 187,
   "id": "5dc9c0b0-5403-4f31-abef-3cf54971b454",
   "metadata": {},
   "outputs": [
    {
     "name": "stdout",
     "output_type": "stream",
     "text": [
      "task 6\n"
     ]
    }
   ],
   "source": [
    "# Prints output below belongs to Task 6\n",
    "print(\"task 6\")"
   ]
  },
  {
   "cell_type": "code",
   "execution_count": 188,
   "id": "9c336709-97cc-4a68-af8b-d06a001d8638",
   "metadata": {},
   "outputs": [
    {
     "name": "stdout",
     "output_type": "stream",
     "text": [
      "      ID Gender     City  Age FirstName   LastName  Designation Level  \\\n",
      "0   A001      M    Paris   25      John      Alter                  2   \n",
      "1   A001      M    Paris   25      John      Alter                  2   \n",
      "2   A001      M    Paris   25      John      Alter                  1   \n",
      "3   A002      F   London   27     Alice  Luxumberg                  2   \n",
      "4   A002      F   London   27     Alice  Luxumberg                  1   \n",
      "5   A003      M   Berlin   29       Tom  Sabestine                  3   \n",
      "6   A003      M   Berlin   29       Tom  Sabestine                  2   \n",
      "7   A003      M   Berlin   29       Tom  Sabestine                  3   \n",
      "8   A004      F  Newyork   31      Nina      Adgra                  2   \n",
      "9   A004      F  Newyork   31      Nina      Adgra                  2   \n",
      "10  A004      F  Newyork   31      Nina      Adgra                  2   \n",
      "11  A005      F   Madrid   30       Amy      Johny                  3   \n",
      "12  A005      F   Madrid   30       Amy      Johny                  3   \n",
      "13  A005      F   Madrid   30       Amy      Johny                  3   \n",
      "\n",
      "       Project      Cost    Status  \n",
      "0    Project 1 1002000.0  Finished  \n",
      "1    Project 9       NaN   Ongoing  \n",
      "2   Project 11 2000000.0    Failed  \n",
      "3    Project 2 2000000.0   Ongoing  \n",
      "4    Project 6  680000.0    Failed  \n",
      "5    Project 3 4500000.0  Finished  \n",
      "6    Project 8  350000.0    Failed  \n",
      "7   Project 10  300000.0  Finished  \n",
      "8    Project 4 5500000.0   Ongoing  \n",
      "9   Project 12 1000000.0   Ongoing  \n",
      "10  Project 13 3000000.0  Finished  \n",
      "11   Project 5       NaN  Finished  \n",
      "12   Project 7  400000.0  Finished  \n",
      "13  Project 14  200000.0  Finished  \n"
     ]
    }
   ],
   "source": [
    "#Demote designation level for those employees\n",
    "final_df.loc[final_df['Status']=='Failed','Designation Level'] -= 1\n",
    "#Identify and delete employees with a designation level > 4\n",
    "final_df = final_df[final_df['Designation Level'] <= 4]\n",
    "# Reset the index of final_df to a clean 0..n range and drop the old index column\n",
    "final_df.reset_index(drop = True, inplace = True)\n",
    "# Display the updated DataFrame\n",
    "print(final_df)"
   ]
  },
  {
   "cell_type": "code",
   "execution_count": 190,
   "id": "ddb60dde-7d40-46c1-b008-9dd1c3759b39",
   "metadata": {},
   "outputs": [
    {
     "name": "stdout",
     "output_type": "stream",
     "text": [
      "task7\n"
     ]
    }
   ],
   "source": [
    "# Prints output below belongs to Task 7\n",
    "print(\"task7\")"
   ]
  },
  {
   "cell_type": "code",
   "execution_count": 205,
   "id": "aa7594b2-c112-4bd3-92ae-97c28f5318c5",
   "metadata": {},
   "outputs": [],
   "source": [
    "# Add \"Mr.\" or \"Mrs.\" prefix to FirstName based on Gender, \n",
    "# but only if the name doesn't already start with that prefix\n",
    "final_df['FirstName'] = final_df.apply(\n",
    "    lambda row: row['FirstName'] \n",
    "    if row['FirstName'].startswith(('Mr. ', 'Mrs. ')) \n",
    "    else (\"Mr. \" + row['FirstName'] if row['Gender'] == 'M' else \"Mrs. \" + row['FirstName']),\n",
    "    axis=1\n",
    ")\n",
    "# Remove the 'Gender' column from final_df as it's no longer needed\n",
    "final_df.drop(columns=['Gender'], inplace=True)"
   ]
  },
  {
   "cell_type": "code",
   "execution_count": 207,
   "id": "7c546b47-c091-40a7-8687-85fdabcb2459",
   "metadata": {},
   "outputs": [
    {
     "name": "stdout",
     "output_type": "stream",
     "text": [
      "      ID     City  Age   FirstName   LastName  Designation Level     Project  \\\n",
      "0   A001    Paris   25    Mr. John      Alter                  2   Project 1   \n",
      "1   A001    Paris   25    Mr. John      Alter                  2   Project 9   \n",
      "2   A001    Paris   25    Mr. John      Alter                  1  Project 11   \n",
      "3   A002   London   27  Mrs. Alice  Luxumberg                  2   Project 2   \n",
      "4   A002   London   27  Mrs. Alice  Luxumberg                  1   Project 6   \n",
      "5   A003   Berlin   29     Mr. Tom  Sabestine                  3   Project 3   \n",
      "6   A003   Berlin   29     Mr. Tom  Sabestine                  2   Project 8   \n",
      "7   A003   Berlin   29     Mr. Tom  Sabestine                  3  Project 10   \n",
      "8   A004  Newyork   31   Mrs. Nina      Adgra                  3   Project 4   \n",
      "9   A004  Newyork   31   Mrs. Nina      Adgra                  3  Project 12   \n",
      "10  A004  Newyork   31   Mrs. Nina      Adgra                  3  Project 13   \n",
      "11  A005   Madrid   30    Mrs. Amy      Johny                  4   Project 5   \n",
      "12  A005   Madrid   30    Mrs. Amy      Johny                  4   Project 7   \n",
      "13  A005   Madrid   30    Mrs. Amy      Johny                  4  Project 14   \n",
      "\n",
      "        Cost    Status  \n",
      "0  1002000.0  Finished  \n",
      "1        NaN   Ongoing  \n",
      "2  2000000.0    Failed  \n",
      "3  2000000.0   Ongoing  \n",
      "4   680000.0    Failed  \n",
      "5  4500000.0  Finished  \n",
      "6   350000.0    Failed  \n",
      "7   300000.0  Finished  \n",
      "8  5500000.0   Ongoing  \n",
      "9  1000000.0   Ongoing  \n",
      "10 3000000.0  Finished  \n",
      "11       NaN  Finished  \n",
      "12  400000.0  Finished  \n",
      "13  200000.0  Finished  \n"
     ]
    }
   ],
   "source": [
    "# Prints the final output\n",
    "print(final_df)"
   ]
  },
  {
   "cell_type": "code",
   "execution_count": 192,
   "id": "fdc97bfc-0660-4a6f-acfa-3ef1e9618f0d",
   "metadata": {},
   "outputs": [
    {
     "name": "stdout",
     "output_type": "stream",
     "text": [
      "task 8\n"
     ]
    }
   ],
   "source": [
    "# Prints output below belongs to Task 8\n",
    "print(\"task 8\")"
   ]
  },
  {
   "cell_type": "code",
   "execution_count": 193,
   "id": "ccffa378-647e-4a10-944e-83e3af62d0b3",
   "metadata": {},
   "outputs": [],
   "source": [
    "# Promote level by 1 for employees older than 29\n",
    "final_df.loc[final_df['Age'] > 29, 'Designation Level'] = final_df['Designation Level'] + 1\n"
   ]
  },
  {
   "cell_type": "code",
   "execution_count": 194,
   "id": "aba0897c-f02f-4cea-87fd-6dea2e5079d2",
   "metadata": {},
   "outputs": [
    {
     "name": "stdout",
     "output_type": "stream",
     "text": [
      "      ID Gender     City  Age   FirstName   LastName  Designation Level  \\\n",
      "0   A001      M    Paris   25    Mr. John      Alter                  2   \n",
      "1   A001      M    Paris   25    Mr. John      Alter                  2   \n",
      "2   A001      M    Paris   25    Mr. John      Alter                  1   \n",
      "3   A002      F   London   27  Mrs. Alice  Luxumberg                  2   \n",
      "4   A002      F   London   27  Mrs. Alice  Luxumberg                  1   \n",
      "5   A003      M   Berlin   29     Mr. Tom  Sabestine                  3   \n",
      "6   A003      M   Berlin   29     Mr. Tom  Sabestine                  2   \n",
      "7   A003      M   Berlin   29     Mr. Tom  Sabestine                  3   \n",
      "8   A004      F  Newyork   31   Mrs. Nina      Adgra                  3   \n",
      "9   A004      F  Newyork   31   Mrs. Nina      Adgra                  3   \n",
      "10  A004      F  Newyork   31   Mrs. Nina      Adgra                  3   \n",
      "11  A005      F   Madrid   30    Mrs. Amy      Johny                  4   \n",
      "12  A005      F   Madrid   30    Mrs. Amy      Johny                  4   \n",
      "13  A005      F   Madrid   30    Mrs. Amy      Johny                  4   \n",
      "\n",
      "       Project      Cost    Status  \n",
      "0    Project 1 1002000.0  Finished  \n",
      "1    Project 9       NaN   Ongoing  \n",
      "2   Project 11 2000000.0    Failed  \n",
      "3    Project 2 2000000.0   Ongoing  \n",
      "4    Project 6  680000.0    Failed  \n",
      "5    Project 3 4500000.0  Finished  \n",
      "6    Project 8  350000.0    Failed  \n",
      "7   Project 10  300000.0  Finished  \n",
      "8    Project 4 5500000.0   Ongoing  \n",
      "9   Project 12 1000000.0   Ongoing  \n",
      "10  Project 13 3000000.0  Finished  \n",
      "11   Project 5       NaN  Finished  \n",
      "12   Project 7  400000.0  Finished  \n",
      "13  Project 14  200000.0  Finished  \n"
     ]
    }
   ],
   "source": [
    "# Display the final merged and processed DataFrame\n",
    "print(final_df)"
   ]
  },
  {
   "cell_type": "code",
   "execution_count": 195,
   "id": "6a9d66f3-8ef1-4aff-ac50-2d1f103f1c6e",
   "metadata": {},
   "outputs": [
    {
     "name": "stdout",
     "output_type": "stream",
     "text": [
      "task 9\n"
     ]
    }
   ],
   "source": [
    "# Prints output below belongs to Task 9\n",
    "print(\"task 9\")"
   ]
  },
  {
   "cell_type": "code",
   "execution_count": 196,
   "id": "16fc4727-3f83-461a-84c0-f437a2a11b41",
   "metadata": {},
   "outputs": [],
   "source": [
    "# Ensure Cost is numeric\n",
    "final_df['Cost'] = pd.to_numeric(final_df['Cost'], errors='coerce')"
   ]
  },
  {
   "cell_type": "code",
   "execution_count": 197,
   "id": "fb5c6698-1178-40e1-82a5-f419f2002807",
   "metadata": {},
   "outputs": [],
   "source": [
    "# Group by ID and FirstName, summing the Cost\n",
    "TotalProjCost = final_df.groupby(['ID', 'FirstName'], as_index=False)['Cost'].sum()"
   ]
  },
  {
   "cell_type": "code",
   "execution_count": 198,
   "id": "615023ff-277d-4c2b-9562-a3be6aacd950",
   "metadata": {},
   "outputs": [],
   "source": [
    "# Rename the column to match requirement\n",
    "TotalProjCost.rename(columns={'Cost': 'Total cost'}, inplace=True)"
   ]
  },
  {
   "cell_type": "code",
   "execution_count": 199,
   "id": "805bc303-2820-44b2-8ca4-56d7ad762c33",
   "metadata": {},
   "outputs": [
    {
     "name": "stdout",
     "output_type": "stream",
     "text": [
      "     ID   FirstName  Total cost\n",
      "0  A001    Mr. John   3002000.0\n",
      "1  A002  Mrs. Alice   2680000.0\n",
      "2  A003     Mr. Tom   5150000.0\n",
      "3  A004   Mrs. Nina   9500000.0\n",
      "4  A005    Mrs. Amy    600000.0\n"
     ]
    }
   ],
   "source": [
    "# Display the final merged and processed DataFrame\n",
    "print(TotalProjCost)"
   ]
  },
  {
   "cell_type": "code",
   "execution_count": 200,
   "id": "4f3c0492-a33b-4e13-b73d-39668cabaee9",
   "metadata": {},
   "outputs": [
    {
     "name": "stdout",
     "output_type": "stream",
     "text": [
      "task 10\n"
     ]
    }
   ],
   "source": [
    "# Prints output below belongs to Task 10\n",
    "print(\"task 10\")"
   ]
  },
  {
   "cell_type": "code",
   "execution_count": 201,
   "id": "d8b7e3e2-6314-4911-929b-d9a6bcad5866",
   "metadata": {},
   "outputs": [],
   "source": [
    "# Select all rows where the 'City' column contains the letter \"o\" & ignore NaN values to prevent errors\n",
    "employees_with_o = final_df[final_df['City'].str.contains('o', case=False, na=False)]"
   ]
  },
  {
   "cell_type": "code",
   "execution_count": 202,
   "id": "406fa399-36cb-47e0-a5f1-2e887f4524b6",
   "metadata": {},
   "outputs": [
    {
     "name": "stdout",
     "output_type": "stream",
     "text": [
      "      ID Gender     City  Age   FirstName   LastName  Designation Level  \\\n",
      "3   A002      F   London   27  Mrs. Alice  Luxumberg                  2   \n",
      "4   A002      F   London   27  Mrs. Alice  Luxumberg                  1   \n",
      "8   A004      F  Newyork   31   Mrs. Nina      Adgra                  3   \n",
      "9   A004      F  Newyork   31   Mrs. Nina      Adgra                  3   \n",
      "10  A004      F  Newyork   31   Mrs. Nina      Adgra                  3   \n",
      "\n",
      "       Project      Cost    Status  \n",
      "3    Project 2 2000000.0   Ongoing  \n",
      "4    Project 6  680000.0    Failed  \n",
      "8    Project 4 5500000.0   Ongoing  \n",
      "9   Project 12 1000000.0   Ongoing  \n",
      "10  Project 13 3000000.0  Finished  \n"
     ]
    }
   ],
   "source": [
    "# Display the final DataFrame\n",
    "print(employees_with_o)"
   ]
  },
  {
   "cell_type": "code",
   "execution_count": null,
   "id": "b2b68172-4e6b-43de-91a1-a9863da91711",
   "metadata": {},
   "outputs": [],
   "source": []
  }
 ],
 "metadata": {
  "kernelspec": {
   "display_name": "Python [conda env:base] *",
   "language": "python",
   "name": "conda-base-py"
  },
  "language_info": {
   "codemirror_mode": {
    "name": "ipython",
    "version": 3
   },
   "file_extension": ".py",
   "mimetype": "text/x-python",
   "name": "python",
   "nbconvert_exporter": "python",
   "pygments_lexer": "ipython3",
   "version": "3.13.5"
  }
 },
 "nbformat": 4,
 "nbformat_minor": 5
}
